{
 "cells": [
  {
   "cell_type": "markdown",
   "metadata": {},
   "source": [
    "# 缺失值处理"
   ]
  },
  {
   "cell_type": "markdown",
   "metadata": {},
   "source": [
    "```{admonition} 在线刷题\n",
    ":class: seealso\n",
    "\n",
    "检查 or 强化 `Pandas` 数据分析操作？<a href=\"https://www.heywhale.com/mw/project/6146c0318447b8001769ff20\" target=\"_blank\">👉在线体验「Pandas进阶修炼300题」</a>\n",
    "```"
   ]
  },
  {
   "cell_type": "markdown",
   "metadata": {},
   "source": [
    "```{note} \n",
    "本页面代码可以[在线编辑、执行](../指引/在线执行.md)！\n",
    "```"
   ]
  },
  {
   "cell_type": "code",
   "execution_count": 1,
   "metadata": {
    "tags": [
     "remove-input"
    ]
   },
   "outputs": [],
   "source": [
    "import pandas as pd\n",
    "df = pd.read_excel(\"TOP250.xlsx\")"
   ]
  },
  {
   "cell_type": "markdown",
   "metadata": {},
   "source": [
    "## 删除缺失值\n",
    "\n",
    "\n",
    "处理缺失值最简单的方式，当然是将缺失值出现的行全部删掉～\n",
    "\n",
    "-> 现在，将缺失值出现的行全部删掉"
   ]
  },
  {
   "cell_type": "code",
   "execution_count": null,
   "metadata": {},
   "outputs": [],
   "source": [
    "df = df.dropna()"
   ]
  },
  {
   "cell_type": "markdown",
   "metadata": {},
   "source": [
    "## 整体填充补全\n",
    "\n",
    "\n",
    "除了删除缺失值最省事之外，将全部缺失值替换为一个 **固定的值/文本** 也是一个较为省事的方法'\n",
    "\n",
    "-> 现在，将全部缺失值替换为 `*`"
   ]
  },
  {
   "cell_type": "code",
   "execution_count": null,
   "metadata": {},
   "outputs": [],
   "source": [
    "df = df.fillna('*') "
   ]
  },
  {
   "cell_type": "markdown",
   "metadata": {},
   "source": [
    "## 向上填充补全\n",
    "\n",
    "\n",
    "从上一小节的查看数据中，不难发现整理数据是按照评分进行降序排列的\n",
    "\n",
    "因此对于评分列的缺失值处理，我们可以用上一个电影的评分进行填充\n",
    "\n",
    "-> 现在将评分列的缺失值，替换为上一个电影的评分"
   ]
  },
  {
   "cell_type": "code",
   "execution_count": 76,
   "metadata": {},
   "outputs": [],
   "source": [
    "df['评分'] = df['评分'].fillna(axis=0,method='ffill')"
   ]
  },
  {
   "cell_type": "markdown",
   "metadata": {},
   "source": [
    "##  整体均值填充补全\n",
    "\n",
    "\n",
    "对于评价人数列的缺失值处理，我们可以使用整列的均值进行填充\n",
    "\n",
    "-> 现在，将评价人数列的缺失值，用整列的均值进行填充"
   ]
  },
  {
   "cell_type": "code",
   "execution_count": 89,
   "metadata": {},
   "outputs": [],
   "source": [
    "df['评价人数'] = df['评价人数'].fillna(df['评价人数'].mean())"
   ]
  },
  {
   "cell_type": "markdown",
   "metadata": {},
   "source": [
    "## 上下均值填充补全\n",
    "\n",
    "\n",
    "除了可以使用整列的均值进行填充，也可以使用缺失值位置的上下均值进行填充、\n",
    "\n",
    "-> 现在，将评价人数列的缺失值，用上下数字的均值进行填充"
   ]
  },
  {
   "cell_type": "code",
   "execution_count": 97,
   "metadata": {},
   "outputs": [],
   "source": [
    "df['评价人数'] = df['评价人数'].fillna(df['评价人数'].interpolate())"
   ]
  },
  {
   "cell_type": "markdown",
   "metadata": {},
   "source": [
    "## 匹配填充补全\n",
    "\n",
    "\n",
    "除了利用均值填充，有时还需要根据另一列的值进行匹配填充\n",
    "\n",
    "-> 现在填充 “语言” 列的缺失值，要求根据 “国家/地区” 列的值进行填充\n",
    "\n",
    "> 例如 《海上钢琴师》国家/地区为 意大利，根据其他意大利国家对应的语言来看，应填充为 意大利语"
   ]
  },
  {
   "cell_type": "code",
   "execution_count": 122,
   "metadata": {},
   "outputs": [],
   "source": [
    "df['语言']=df.groupby('国家/地区').语言.bfill()"
   ]
  },
  {
   "cell_type": "markdown",
   "metadata": {},
   "source": [
    "```{admonition} 思考\n",
    ":class: hint\n",
    "\n",
    "还有其他方法可以实现吗？\n",
    "```"
   ]
  }
 ],
 "metadata": {
  "celltoolbar": "Tags",
  "kernelspec": {
   "display_name": "Python 3",
   "language": "python",
   "name": "python3"
  },
  "language_info": {
   "codemirror_mode": {
    "name": "ipython",
    "version": 3
   },
   "file_extension": ".py",
   "mimetype": "text/x-python",
   "name": "python",
   "nbconvert_exporter": "python",
   "pygments_lexer": "ipython3",
   "version": "3.8.5"
  },
  "toc": {
   "base_numbering": 1,
   "nav_menu": {},
   "number_sections": false,
   "sideBar": true,
   "skip_h1_title": false,
   "title_cell": "Table of Contents",
   "title_sidebar": "Contents",
   "toc_cell": false,
   "toc_position": {},
   "toc_section_display": true,
   "toc_window_display": true
  }
 },
 "nbformat": 4,
 "nbformat_minor": 4
}
