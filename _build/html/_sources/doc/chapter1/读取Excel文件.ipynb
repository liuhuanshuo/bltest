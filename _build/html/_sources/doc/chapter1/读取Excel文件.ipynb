{
 "cells": [
  {
   "cell_type": "markdown",
   "metadata": {},
   "source": [
    "# 读取 Excel 文件"
   ]
  },
  {
   "cell_type": "markdown",
   "metadata": {},
   "source": [
    "```{admonition} 在线刷题\n",
    ":class: seealso\n",
    "\n",
    "检查 or 强化 `Pandas` 数据分析操作？<a href=\"https://www.heywhale.com/mw/project/6146c0318447b8001769ff20\" target=\"_blank\">👉在线体验「Pandas进阶修炼300题」</a>\n",
    "```"
   ]
  },
  {
   "cell_type": "markdown",
   "metadata": {},
   "source": [
    "```{note} \n",
    "本页面代码可以[在线编辑、执行](../指引/在线执行.md)！\n",
    "```"
   ]
  },
  {
   "cell_type": "markdown",
   "metadata": {},
   "source": [
    "## 默认读取\n",
    "\n",
    "\n",
    "默认读取是最简单的方式，使用 `pd.read_csv('xxxx.csv')` 即可读取对应文件\n",
    "\n",
    "现在尝试使用 `pandas` 读取当前目录下 `某招聘网站数据.csv`\n"
   ]
  },
  {
   "cell_type": "code",
   "execution_count": 2,
   "metadata": {},
   "outputs": [],
   "source": [
    "import pandas as pd\n",
    "data = pd.read_csv(\"某招聘网站数据.csv\")"
   ]
  },
  {
   "cell_type": "markdown",
   "metadata": {},
   "source": [
    "```{admonition} 注意\n",
    ":class: Attention\n",
    "\n",
    "使用 `pandas` 读取 `CSV` 与读取 `xlsx` 格式的 `Excel` 文件方法大致相同\n",
    "\n",
    "因此下面与 `Excel` 相关的读取操作均以 `CSV` 格式进行介绍\n",
    "\n",
    "```"
   ]
  },
  {
   "cell_type": "markdown",
   "metadata": {},
   "source": [
    "## 读取前 n 行\n",
    "\n",
    "\n",
    "读取当前目录下 `某招聘网站数据.csv` 文件的 **前20行**"
   ]
  },
  {
   "cell_type": "code",
   "execution_count": 5,
   "metadata": {},
   "outputs": [],
   "source": [
    "data = pd.read_csv(\"某招聘网站数据.csv\",nrows = 20)"
   ]
  },
  {
   "cell_type": "markdown",
   "metadata": {},
   "source": [
    "## 跳过前 n 行\n",
    "\n",
    "读取当前目录下 `某招聘网站数据.csv` 文件并 **跳过前20行**"
   ]
  },
  {
   "cell_type": "code",
   "execution_count": 6,
   "metadata": {},
   "outputs": [],
   "source": [
    "data = pd.read_csv(\"某招聘网站数据.csv\",skiprows = [i for i in range(1,21)])"
   ]
  },
  {
   "cell_type": "markdown",
   "metadata": {},
   "source": [
    "## 指定行读取\n",
    "\n",
    "读取当前目录下 `某招聘网站数据.csv` 文件中全部**偶数行**"
   ]
  },
  {
   "cell_type": "code",
   "execution_count": 7,
   "metadata": {},
   "outputs": [],
   "source": [
    "data = pd.read_csv('某招聘网站数据.csv', skiprows=lambda x: (x != 0) and not x % 2)"
   ]
  },
  {
   "cell_type": "markdown",
   "metadata": {},
   "source": [
    "```{admonition} 思考\n",
    ":class: hint\n",
    "\n",
    "如果是读取全部奇数行，或者更多满足指定条件的行呢？\n",
    "```"
   ]
  },
  {
   "cell_type": "code",
   "execution_count": 7,
   "metadata": {
    "tags": [
     "hide-input"
    ]
   },
   "outputs": [],
   "source": [
    "data = pd.read_csv('某招聘网站数据.csv', skiprows=lambda x: x % 2) #读取奇数行"
   ]
  },
  {
   "cell_type": "markdown",
   "metadata": {},
   "source": [
    "## 指定列号读取\n",
    "\n",
    "\n",
    "读取当前目录下 `某招聘网站数据.csv` 文件的第 `1、3、5` 列"
   ]
  },
  {
   "cell_type": "code",
   "execution_count": 7,
   "metadata": {},
   "outputs": [],
   "source": [
    "data = pd.read_csv(\"某招聘网站数据.csv\",usecols = [0,2,4])"
   ]
  },
  {
   "cell_type": "markdown",
   "metadata": {},
   "source": [
    "##  指定列名读取\n",
    "\n",
    "\n",
    "读取当前目录下 `某招聘网站数据.csv` 文件的 `positionId、positionName、salary` 列"
   ]
  },
  {
   "cell_type": "code",
   "execution_count": 11,
   "metadata": {},
   "outputs": [],
   "source": [
    "data = pd.read_csv(\"某招聘网站数据.csv\",usecols = ['positionId','positionName','salary'])"
   ]
  },
  {
   "cell_type": "markdown",
   "metadata": {},
   "source": [
    "## 指定列匹配读取\n",
    "\n",
    "\n",
    "让我们来个更难一点的，还是读取 `某招聘网站数据.csv` 文件，但现在有一个 list 中包含多个字段👇\n",
    "\n",
    "`usecols = ['positionId','test','positionName', 'test1','salary']`\n",
    "\n",
    "如果 `usecols` 中的列名存在于 `某招聘网站数据.csv` 中，则读取。"
   ]
  },
  {
   "cell_type": "code",
   "execution_count": 8,
   "metadata": {},
   "outputs": [],
   "source": [
    "usecols = ['positionId', 'test', 'positionName', 'test1', 'salary']\n",
    "\n",
    "data = pd.read_csv('某招聘网站数据.csv', usecols=lambda c: c in set(usecols))"
   ]
  },
  {
   "cell_type": "markdown",
   "metadata": {},
   "source": [
    "## 读取时设置索引\n",
    "\n",
    "\n",
    "读取当前目录下 `某招聘网站数据.csv` 文件，并在读取时将 `positionId` 设置为索引列"
   ]
  },
  {
   "cell_type": "code",
   "execution_count": 17,
   "metadata": {},
   "outputs": [],
   "source": [
    "data = pd.read_csv('某招聘网站数据.csv',index_col=['positionId'])"
   ]
  },
  {
   "cell_type": "markdown",
   "metadata": {},
   "source": [
    "## 读取时设置标题\n",
    "\n",
    "<br>\n",
    "\n",
    "\n",
    "读取当前目录下 `某招聘网站数据.csv` 文件的 `positionId、positionName、salary` 列，并将标题设置为 `ID、岗位名称、薪资`"
   ]
  },
  {
   "cell_type": "code",
   "execution_count": 41,
   "metadata": {},
   "outputs": [],
   "source": [
    "data = pd.read_csv('某招聘网站数据.csv', usecols=[0,1,17],header = 0,names=['ID','岗位名称','薪资'])"
   ]
  },
  {
   "cell_type": "markdown",
   "metadata": {},
   "source": [
    "## 读取并处理缺失值\n",
    "\n",
    "\n",
    "\n",
    "\n",
    "- 读取当前目录下 `某招聘网站数据.csv` 文件，**并不将缺失值标记为 `NA`**\n",
    "- 读取当前目录下 `某招聘网站数据.csv` 文件，**并将`[]`标记为缺失值**\n",
    "- 读取当前目录下 `某招聘网站数据.csv` 文件，**但不处理缺失值**"
   ]
  },
  {
   "cell_type": "code",
   "execution_count": 45,
   "metadata": {},
   "outputs": [],
   "source": [
    "data = pd.read_csv('某招聘网站数据.csv', keep_default_na=False)\n",
    "\n",
    "data = pd.read_csv('某招聘网站数据.csv',na_values=['[]'])\n",
    "\n",
    "data = pd.read_csv(\"某招聘网站数据.csv\",na_filter=False)"
   ]
  },
  {
   "cell_type": "markdown",
   "metadata": {},
   "source": [
    "```{admonition} 思考\n",
    ":class: hint\n",
    "\n",
    "这三种方式有什么区别？\n",
    "```"
   ]
  },
  {
   "cell_type": "markdown",
   "metadata": {},
   "source": [
    "## 读取时设置格式\n",
    "\n",
    "\n",
    "- 读取当前目录下 `某招聘网站数据.csv` 文件，并将 `positionId,companyId` 设置为字符串格式\n",
    "\n",
    "- 读取当前目录下 `某招聘网站数据.csv` 文件，并将 `createTime` 列设置为时间"
   ]
  },
  {
   "cell_type": "code",
   "execution_count": 3,
   "metadata": {},
   "outputs": [],
   "source": [
    "data = pd.read_csv(\"某招聘网站数据.csv\", dtype={'positionId': str,'companyId':str}) #指定字符串格式\n",
    "\n",
    "data = pd.read_csv(\"某招聘网站数据.csv\",parse_dates=['createTime']) #指定时间格式"
   ]
  },
  {
   "cell_type": "markdown",
   "metadata": {},
   "source": [
    "## 分块读取\n",
    "\n",
    "\n",
    "读取当前目录下 `某招聘网站数据.csv` 文件，要求返回一个可迭代对象，每次读取 10 行"
   ]
  },
  {
   "cell_type": "code",
   "execution_count": 58,
   "metadata": {},
   "outputs": [],
   "source": [
    "data = pd.read_csv(\"某招聘网站数据.csv\", chunksize= 10)"
   ]
  },
  {
   "cell_type": "markdown",
   "metadata": {},
   "source": [
    "```{admonition} 思考\n",
    ":class: hint\n",
    "\n",
    "为什么这样做？\n",
    "```"
   ]
  },
  {
   "cell_type": "markdown",
   "metadata": {},
   "source": [
    "## 循环读取数据\n",
    "\n",
    "\n",
    "在 `demodata` 文件夹下有多个 `Excel` 文件，要求一次性循环读取全部文件"
   ]
  },
  {
   "cell_type": "code",
   "execution_count": 4,
   "metadata": {},
   "outputs": [],
   "source": [
    "import os\n",
    "path = 'demodata/'\n",
    "filesnames = os.listdir(path)\n",
    "filesnames = [f for f in filesnames if f.lower().endswith(\".xlsx\")]\n",
    "df_list = []\n",
    "for filename in filesnames:\n",
    "    df_list.append(pd.read_excel(path + filename))\n",
    "\n",
    "df = pd.concat(df_list)"
   ]
  }
 ],
 "metadata": {
  "celltoolbar": "Tags",
  "kernelspec": {
   "display_name": "Python 3",
   "language": "python",
   "name": "python3"
  },
  "language_info": {
   "codemirror_mode": {
    "name": "ipython",
    "version": 3
   },
   "file_extension": ".py",
   "mimetype": "text/x-python",
   "name": "python",
   "nbconvert_exporter": "python",
   "pygments_lexer": "ipython3",
   "version": "3.8.5"
  },
  "toc": {
   "base_numbering": 1,
   "nav_menu": {},
   "number_sections": false,
   "sideBar": true,
   "skip_h1_title": false,
   "title_cell": "Table of Contents",
   "title_sidebar": "Contents",
   "toc_cell": false,
   "toc_position": {},
   "toc_section_display": true,
   "toc_window_display": true
  },
  "widgets": {
   "application/vnd.jupyter.widget-state+json": {
    "state": {},
    "version_major": 2,
    "version_minor": 0
   }
  }
 },
 "nbformat": 4,
 "nbformat_minor": 4
}
