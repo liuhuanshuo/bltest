{
 "cells": [
  {
   "cell_type": "markdown",
   "metadata": {},
   "source": [
    "# 数据预览"
   ]
  },
  {
   "cell_type": "markdown",
   "metadata": {},
   "source": [
    "```{admonition} 在线刷题\n",
    ":class: seealso\n",
    "\n",
    "检查 or 强化 `Pandas` 数据分析操作？<a href=\"https://www.heywhale.com/mw/project/6146c0318447b8001769ff20\" target=\"_blank\">👉在线体验「Pandas进阶修炼300题」</a>\n",
    "```"
   ]
  },
  {
   "cell_type": "markdown",
   "metadata": {},
   "source": [
    "```{note} \n",
    "本页面代码可以[在线编辑、执行](../指引/在线执行.md)！\n",
    "```"
   ]
  },
  {
   "cell_type": "code",
   "execution_count": 1,
   "metadata": {
    "tags": [
     "remove-input"
    ]
   },
   "outputs": [],
   "source": [
    "import pandas as pd\n",
    "df = pd.read_excel(\"TOP250.xlsx\")"
   ]
  },
  {
   "cell_type": "markdown",
   "metadata": {},
   "source": [
    "## 数据维度\n",
    "\n",
    "先看看数据多少行，多少列，对接下来的处理量心里有个数"
   ]
  },
  {
   "cell_type": "code",
   "execution_count": 2,
   "metadata": {},
   "outputs": [
    {
     "data": {
      "text/plain": [
       "(262, 11)"
      ]
     },
     "execution_count": 2,
     "metadata": {},
     "output_type": "execute_result"
    }
   ],
   "source": [
    "df.shape"
   ]
  },
  {
   "cell_type": "markdown",
   "metadata": {},
   "source": [
    "## 数据抽样\n",
    "\n",
    "也就是随机查看一个样本，大致了解下数据"
   ]
  },
  {
   "cell_type": "code",
   "execution_count": 3,
   "metadata": {},
   "outputs": [
    {
     "data": {
      "text/html": [
       "<div>\n",
       "<style scoped>\n",
       "    .dataframe tbody tr th:only-of-type {\n",
       "        vertical-align: middle;\n",
       "    }\n",
       "\n",
       "    .dataframe tbody tr th {\n",
       "        vertical-align: top;\n",
       "    }\n",
       "\n",
       "    .dataframe thead th {\n",
       "        text-align: right;\n",
       "    }\n",
       "</style>\n",
       "<table border=\"1\" class=\"dataframe\">\n",
       "  <thead>\n",
       "    <tr style=\"text-align: right;\">\n",
       "      <th></th>\n",
       "      <th>片名</th>\n",
       "      <th>上映年份</th>\n",
       "      <th>评分</th>\n",
       "      <th>评价人数</th>\n",
       "      <th>导演</th>\n",
       "      <th>编剧</th>\n",
       "      <th>主演</th>\n",
       "      <th>类型</th>\n",
       "      <th>国家/地区</th>\n",
       "      <th>语言</th>\n",
       "      <th>时长(分钟)</th>\n",
       "    </tr>\n",
       "  </thead>\n",
       "  <tbody>\n",
       "    <tr>\n",
       "      <th>194</th>\n",
       "      <td>寄生虫</td>\n",
       "      <td>2019</td>\n",
       "      <td>8.7</td>\n",
       "      <td>1103840.0</td>\n",
       "      <td>奉俊昊</td>\n",
       "      <td>奉俊昊 / 韩进元</td>\n",
       "      <td>宋康昊 / 李善均 / 曹如晶 / 崔宇植 / 朴素丹 / 李姃垠 / 张慧珍 / 郑知晓 ...</td>\n",
       "      <td>剧情 / 喜剧</td>\n",
       "      <td>韩国</td>\n",
       "      <td>韩语</td>\n",
       "      <td>132.0</td>\n",
       "    </tr>\n",
       "  </tbody>\n",
       "</table>\n",
       "</div>"
      ],
      "text/plain": [
       "      片名  上映年份   评分       评价人数   导演         编剧  \\\n",
       "194  寄生虫  2019  8.7  1103840.0  奉俊昊  奉俊昊 / 韩进元   \n",
       "\n",
       "                                                    主演       类型 国家/地区   语言  \\\n",
       "194  宋康昊 / 李善均 / 曹如晶 / 崔宇植 / 朴素丹 / 李姃垠 / 张慧珍 / 郑知晓 ...  剧情 / 喜剧    韩国  韩语    \n",
       "\n",
       "     时长(分钟)  \n",
       "194   132.0  "
      ]
     },
     "execution_count": 3,
     "metadata": {},
     "output_type": "execute_result"
    }
   ],
   "source": [
    "df.sample()\n",
    "\n",
    "# df.sample(n) #抽n个样本"
   ]
  },
  {
   "cell_type": "markdown",
   "metadata": {},
   "source": [
    "## 查看数据前 3 行\n",
    "\n",
    "检查头尾数据，更详细的看一下数据"
   ]
  },
  {
   "cell_type": "code",
   "execution_count": 4,
   "metadata": {},
   "outputs": [
    {
     "data": {
      "text/html": [
       "<div>\n",
       "<style scoped>\n",
       "    .dataframe tbody tr th:only-of-type {\n",
       "        vertical-align: middle;\n",
       "    }\n",
       "\n",
       "    .dataframe tbody tr th {\n",
       "        vertical-align: top;\n",
       "    }\n",
       "\n",
       "    .dataframe thead th {\n",
       "        text-align: right;\n",
       "    }\n",
       "</style>\n",
       "<table border=\"1\" class=\"dataframe\">\n",
       "  <thead>\n",
       "    <tr style=\"text-align: right;\">\n",
       "      <th></th>\n",
       "      <th>片名</th>\n",
       "      <th>上映年份</th>\n",
       "      <th>评分</th>\n",
       "      <th>评价人数</th>\n",
       "      <th>导演</th>\n",
       "      <th>编剧</th>\n",
       "      <th>主演</th>\n",
       "      <th>类型</th>\n",
       "      <th>国家/地区</th>\n",
       "      <th>语言</th>\n",
       "      <th>时长(分钟)</th>\n",
       "    </tr>\n",
       "  </thead>\n",
       "  <tbody>\n",
       "    <tr>\n",
       "      <th>0</th>\n",
       "      <td>肖申克的救赎</td>\n",
       "      <td>1994</td>\n",
       "      <td>9.7</td>\n",
       "      <td>2317937.0</td>\n",
       "      <td>弗兰克·德拉邦特</td>\n",
       "      <td>弗兰克·德拉邦特 / 斯蒂芬·金</td>\n",
       "      <td>蒂姆·罗宾斯 / 摩根·弗里曼 / 鲍勃·冈顿 / 威廉姆·赛德勒 / 克兰西·布朗 / 吉...</td>\n",
       "      <td>剧情 / 犯罪</td>\n",
       "      <td>美国</td>\n",
       "      <td>英语</td>\n",
       "      <td>142.0</td>\n",
       "    </tr>\n",
       "    <tr>\n",
       "      <th>1</th>\n",
       "      <td>霸王别姬</td>\n",
       "      <td>1993</td>\n",
       "      <td>9.6</td>\n",
       "      <td>1720638.0</td>\n",
       "      <td>陈凯歌</td>\n",
       "      <td>芦苇 / 李碧华</td>\n",
       "      <td>张国荣 / 张丰毅 / 巩俐 / 葛优 / 英达 / 蒋雯丽 / 吴大维 / 吕齐 / 雷汉...</td>\n",
       "      <td>剧情 / 爱情 / 同性</td>\n",
       "      <td>中国</td>\n",
       "      <td>汉语普通话</td>\n",
       "      <td>171.0</td>\n",
       "    </tr>\n",
       "    <tr>\n",
       "      <th>2</th>\n",
       "      <td>阿甘正传</td>\n",
       "      <td>1994</td>\n",
       "      <td>9.5</td>\n",
       "      <td>1743966.0</td>\n",
       "      <td>罗伯特·泽米吉斯</td>\n",
       "      <td>艾瑞克·罗斯 / 温斯顿·格鲁姆</td>\n",
       "      <td>汤姆·汉克斯 / 罗宾·怀特 / 加里·西尼斯 / 麦凯尔泰·威廉逊 / 莎莉·菲尔德 / ...</td>\n",
       "      <td>剧情 / 爱情</td>\n",
       "      <td>美国</td>\n",
       "      <td>英语</td>\n",
       "      <td>142.0</td>\n",
       "    </tr>\n",
       "  </tbody>\n",
       "</table>\n",
       "</div>"
      ],
      "text/plain": [
       "       片名  上映年份   评分       评价人数        导演                编剧  \\\n",
       "0  肖申克的救赎  1994  9.7  2317937.0  弗兰克·德拉邦特  弗兰克·德拉邦特 / 斯蒂芬·金   \n",
       "1    霸王别姬  1993  9.6  1720638.0       陈凯歌          芦苇 / 李碧华   \n",
       "2    阿甘正传  1994  9.5  1743966.0  罗伯特·泽米吉斯  艾瑞克·罗斯 / 温斯顿·格鲁姆   \n",
       "\n",
       "                                                  主演            类型 国家/地区  \\\n",
       "0  蒂姆·罗宾斯 / 摩根·弗里曼 / 鲍勃·冈顿 / 威廉姆·赛德勒 / 克兰西·布朗 / 吉...       剧情 / 犯罪    美国   \n",
       "1  张国荣 / 张丰毅 / 巩俐 / 葛优 / 英达 / 蒋雯丽 / 吴大维 / 吕齐 / 雷汉...  剧情 / 爱情 / 同性    中国   \n",
       "2  汤姆·汉克斯 / 罗宾·怀特 / 加里·西尼斯 / 麦凯尔泰·威廉逊 / 莎莉·菲尔德 / ...       剧情 / 爱情    美国   \n",
       "\n",
       "      语言  时长(分钟)  \n",
       "0     英语   142.0  \n",
       "1  汉语普通话   171.0  \n",
       "2     英语   142.0  "
      ]
     },
     "execution_count": 4,
     "metadata": {},
     "output_type": "execute_result"
    }
   ],
   "source": [
    "df.head(3)\n",
    "# df.tail() # 查看后5行"
   ]
  },
  {
   "cell_type": "markdown",
   "metadata": {},
   "source": [
    "## 查看数据基本信息\n",
    "\n",
    "看看数据类型，有无缺失值什么的"
   ]
  },
  {
   "cell_type": "code",
   "execution_count": 5,
   "metadata": {},
   "outputs": [
    {
     "name": "stdout",
     "output_type": "stream",
     "text": [
      "<class 'pandas.core.frame.DataFrame'>\n",
      "RangeIndex: 262 entries, 0 to 261\n",
      "Data columns (total 11 columns):\n",
      " #   Column  Non-Null Count  Dtype  \n",
      "---  ------  --------------  -----  \n",
      " 0   片名      262 non-null    object \n",
      " 1   上映年份    262 non-null    int64  \n",
      " 2   评分      257 non-null    float64\n",
      " 3   评价人数    259 non-null    float64\n",
      " 4   导演      262 non-null    object \n",
      " 5   编剧      262 non-null    object \n",
      " 6   主演      262 non-null    object \n",
      " 7   类型      262 non-null    object \n",
      " 8   国家/地区   256 non-null    object \n",
      " 9   语言      256 non-null    object \n",
      " 10  时长(分钟)  256 non-null    float64\n",
      "dtypes: float64(3), int64(1), object(7)\n",
      "memory usage: 22.6+ KB\n"
     ]
    }
   ],
   "source": [
    "df.info()"
   ]
  },
  {
   "cell_type": "markdown",
   "metadata": {},
   "source": [
    "## 查看数值数据统计信息\n",
    "\n",
    "查看 **数值型** 列的统计信息，计数、均值什么的"
   ]
  },
  {
   "cell_type": "code",
   "execution_count": 6,
   "metadata": {},
   "outputs": [
    {
     "data": {
      "text/html": [
       "<div>\n",
       "<style scoped>\n",
       "    .dataframe tbody tr th:only-of-type {\n",
       "        vertical-align: middle;\n",
       "    }\n",
       "\n",
       "    .dataframe tbody tr th {\n",
       "        vertical-align: top;\n",
       "    }\n",
       "\n",
       "    .dataframe thead th {\n",
       "        text-align: right;\n",
       "    }\n",
       "</style>\n",
       "<table border=\"1\" class=\"dataframe\">\n",
       "  <thead>\n",
       "    <tr style=\"text-align: right;\">\n",
       "      <th></th>\n",
       "      <th>count</th>\n",
       "      <th>mean</th>\n",
       "      <th>std</th>\n",
       "      <th>min</th>\n",
       "      <th>25%</th>\n",
       "      <th>50%</th>\n",
       "      <th>75%</th>\n",
       "      <th>max</th>\n",
       "    </tr>\n",
       "  </thead>\n",
       "  <tbody>\n",
       "    <tr>\n",
       "      <th>上映年份</th>\n",
       "      <td>262.0</td>\n",
       "      <td>2000.60</td>\n",
       "      <td>15.57</td>\n",
       "      <td>1931.0</td>\n",
       "      <td>1995.00</td>\n",
       "      <td>2004.0</td>\n",
       "      <td>2011.0</td>\n",
       "      <td>2019.0</td>\n",
       "    </tr>\n",
       "    <tr>\n",
       "      <th>评分</th>\n",
       "      <td>257.0</td>\n",
       "      <td>8.91</td>\n",
       "      <td>0.26</td>\n",
       "      <td>8.4</td>\n",
       "      <td>8.70</td>\n",
       "      <td>8.9</td>\n",
       "      <td>9.1</td>\n",
       "      <td>9.7</td>\n",
       "    </tr>\n",
       "    <tr>\n",
       "      <th>评价人数</th>\n",
       "      <td>259.0</td>\n",
       "      <td>577631.72</td>\n",
       "      <td>367670.85</td>\n",
       "      <td>106462.0</td>\n",
       "      <td>335307.50</td>\n",
       "      <td>479949.0</td>\n",
       "      <td>693230.5</td>\n",
       "      <td>2317937.0</td>\n",
       "    </tr>\n",
       "    <tr>\n",
       "      <th>时长(分钟)</th>\n",
       "      <td>256.0</td>\n",
       "      <td>121.83</td>\n",
       "      <td>28.08</td>\n",
       "      <td>45.0</td>\n",
       "      <td>101.75</td>\n",
       "      <td>118.0</td>\n",
       "      <td>136.0</td>\n",
       "      <td>237.0</td>\n",
       "    </tr>\n",
       "  </tbody>\n",
       "</table>\n",
       "</div>"
      ],
      "text/plain": [
       "        count       mean        std       min        25%       50%       75%  \\\n",
       "上映年份    262.0    2000.60      15.57    1931.0    1995.00    2004.0    2011.0   \n",
       "评分      257.0       8.91       0.26       8.4       8.70       8.9       9.1   \n",
       "评价人数    259.0  577631.72  367670.85  106462.0  335307.50  479949.0  693230.5   \n",
       "时长(分钟)  256.0     121.83      28.08      45.0     101.75     118.0     136.0   \n",
       "\n",
       "              max  \n",
       "上映年份       2019.0  \n",
       "评分            9.7  \n",
       "评价人数    2317937.0  \n",
       "时长(分钟)      237.0  "
      ]
     },
     "execution_count": 6,
     "metadata": {},
     "output_type": "execute_result"
    }
   ],
   "source": [
    "df.describe().round(2).T"
   ]
  },
  {
   "cell_type": "markdown",
   "metadata": {},
   "source": [
    "## 查看离散数据统计信息\n",
    "\n",
    "查看 **离散型** 列的统计信息，计数、频率什么"
   ]
  },
  {
   "cell_type": "code",
   "execution_count": 7,
   "metadata": {},
   "outputs": [
    {
     "data": {
      "text/html": [
       "<div>\n",
       "<style scoped>\n",
       "    .dataframe tbody tr th:only-of-type {\n",
       "        vertical-align: middle;\n",
       "    }\n",
       "\n",
       "    .dataframe tbody tr th {\n",
       "        vertical-align: top;\n",
       "    }\n",
       "\n",
       "    .dataframe thead th {\n",
       "        text-align: right;\n",
       "    }\n",
       "</style>\n",
       "<table border=\"1\" class=\"dataframe\">\n",
       "  <thead>\n",
       "    <tr style=\"text-align: right;\">\n",
       "      <th></th>\n",
       "      <th>片名</th>\n",
       "      <th>导演</th>\n",
       "      <th>编剧</th>\n",
       "      <th>主演</th>\n",
       "      <th>类型</th>\n",
       "      <th>国家/地区</th>\n",
       "      <th>语言</th>\n",
       "    </tr>\n",
       "  </thead>\n",
       "  <tbody>\n",
       "    <tr>\n",
       "      <th>count</th>\n",
       "      <td>262</td>\n",
       "      <td>262</td>\n",
       "      <td>262</td>\n",
       "      <td>262</td>\n",
       "      <td>262</td>\n",
       "      <td>256</td>\n",
       "      <td>256</td>\n",
       "    </tr>\n",
       "    <tr>\n",
       "      <th>unique</th>\n",
       "      <td>249</td>\n",
       "      <td>180</td>\n",
       "      <td>221</td>\n",
       "      <td>249</td>\n",
       "      <td>120</td>\n",
       "      <td>20</td>\n",
       "      <td>26</td>\n",
       "    </tr>\n",
       "    <tr>\n",
       "      <th>top</th>\n",
       "      <td>无人知晓</td>\n",
       "      <td>宫崎骏</td>\n",
       "      <td>是枝裕和</td>\n",
       "      <td>柳乐优弥 / 北浦爱 / 木村飞影 / 清水萌萌子 / 韩英惠 / 江原由希子 / 串田和美...</td>\n",
       "      <td>剧情</td>\n",
       "      <td>美国</td>\n",
       "      <td>英语</td>\n",
       "    </tr>\n",
       "    <tr>\n",
       "      <th>freq</th>\n",
       "      <td>5</td>\n",
       "      <td>8</td>\n",
       "      <td>7</td>\n",
       "      <td>5</td>\n",
       "      <td>24</td>\n",
       "      <td>111</td>\n",
       "      <td>72</td>\n",
       "    </tr>\n",
       "  </tbody>\n",
       "</table>\n",
       "</div>"
      ],
      "text/plain": [
       "          片名   导演    编剧                                                 主演  \\\n",
       "count    262  262   262                                                262   \n",
       "unique   249  180   221                                                249   \n",
       "top     无人知晓  宫崎骏  是枝裕和  柳乐优弥 / 北浦爱 / 木村飞影 / 清水萌萌子 / 韩英惠 / 江原由希子 / 串田和美...   \n",
       "freq       5    8     7                                                  5   \n",
       "\n",
       "         类型 国家/地区   语言  \n",
       "count   262   256  256  \n",
       "unique  120    20   26  \n",
       "top      剧情    美国  英语   \n",
       "freq     24   111   72  "
      ]
     },
     "execution_count": 7,
     "metadata": {},
     "output_type": "execute_result"
    }
   ],
   "source": [
    "df.describe(include=['O'])"
   ]
  }
 ],
 "metadata": {
  "celltoolbar": "Tags",
  "kernelspec": {
   "display_name": "Python 3",
   "language": "python",
   "name": "python3"
  },
  "language_info": {
   "codemirror_mode": {
    "name": "ipython",
    "version": 3
   },
   "file_extension": ".py",
   "mimetype": "text/x-python",
   "name": "python",
   "nbconvert_exporter": "python",
   "pygments_lexer": "ipython3",
   "version": "3.8.5"
  },
  "toc": {
   "base_numbering": 1,
   "nav_menu": {},
   "number_sections": false,
   "sideBar": true,
   "skip_h1_title": false,
   "title_cell": "Table of Contents",
   "title_sidebar": "Contents",
   "toc_cell": false,
   "toc_position": {
    "height": "calc(100% - 180px)",
    "left": "10px",
    "top": "150px",
    "width": "384px"
   },
   "toc_section_display": true,
   "toc_window_display": true
  }
 },
 "nbformat": 4,
 "nbformat_minor": 4
}